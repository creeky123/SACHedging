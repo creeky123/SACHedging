{
 "cells": [
  {
   "cell_type": "code",
   "execution_count": 2,
   "id": "7c590f8b",
   "metadata": {},
   "outputs": [],
   "source": [
    "import pandas as pd\n",
    "import numpy as np\n",
    "import plotly\n",
    "from SimEngine import *"
   ]
  },
  {
   "cell_type": "code",
   "execution_count": 4,
   "id": "3fdd1d52",
   "metadata": {},
   "outputs": [],
   "source": [
    "sim_filepath = 'Z:/Columbia/RLProject/v1.0/Consolidated'"
   ]
  },
  {
   "cell_type": "code",
   "execution_count": 5,
   "id": "0085e4cf",
   "metadata": {},
   "outputs": [],
   "source": [
    "sim_eng = CachedSimEngine(sim_filepath)"
   ]
  },
  {
   "cell_type": "code",
   "execution_count": null,
   "id": "01b62245",
   "metadata": {},
   "outputs": [],
   "source": []
  }
 ],
 "metadata": {
  "kernelspec": {
   "display_name": "Python 3 (ipykernel)",
   "language": "python",
   "name": "python3"
  },
  "language_info": {
   "codemirror_mode": {
    "name": "ipython",
    "version": 3
   },
   "file_extension": ".py",
   "mimetype": "text/x-python",
   "name": "python",
   "nbconvert_exporter": "python",
   "pygments_lexer": "ipython3",
   "version": "3.9.7"
  }
 },
 "nbformat": 4,
 "nbformat_minor": 5
}
